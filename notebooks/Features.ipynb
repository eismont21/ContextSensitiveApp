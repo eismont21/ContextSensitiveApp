{
 "cells": [
  {
   "cell_type": "code",
   "execution_count": 2,
   "outputs": [],
   "source": [
    "from edgeml import edgeml\n",
    "import pandas as pd\n",
    "import numpy as np\n",
    "import datetime\n",
    "import seaborn as sns"
   ],
   "metadata": {
    "collapsed": false,
    "pycharm": {
     "name": "#%%\n"
    }
   }
  },
  {
   "cell_type": "code",
   "execution_count": 3,
   "outputs": [
    {
     "name": "stdout",
     "output_type": "stream",
     "text": [
      "fetching project...\n"
     ]
    }
   ],
   "source": [
    "project=edgeml.getProject(\"https://app.edge-ml.org\",\"dSCctVkGbmT/tMoPX4u6/2lzjQ82zWLweyUpBP7C/oYeXtNGi9iyiwMXr+JTbBzh+Yk1Oh/kJZiiGM/y6HLj2Q==\")"
   ],
   "metadata": {
    "collapsed": false,
    "pycharm": {
     "name": "#%%\n"
    }
   }
  },
  {
   "cell_type": "code",
   "execution_count": 4,
   "outputs": [],
   "source": [
    "#timestamp:{x0,y0,label}\n",
    "data={}\n",
    "\n",
    "for dataset in project[\"datasets\"]:\n",
    "  for labels in dataset[\"labels\"]:\n",
    "    for label in labels: #TODO I do not understand the API here\n",
    "      start=datetime.datetime.utcfromtimestamp(label[\"start\"]/1000)\n",
    "      if start not in data:\n",
    "        data[start]={(\"meta\",None,k):v for k,v in dataset[\"metaData\"].items()}\n",
    "\n",
    "      data[start][(\"label\",label[\"labelingName\"],label[\"name\"])]=1\n",
    "      end=datetime.datetime.utcfromtimestamp(label[\"end\"]/1000)\n",
    "      if end not in data:\n",
    "        data[end]={(\"meta\",None,k):v for k,v in dataset[\"metaData\"].items()}\n",
    "\n",
    "      data[end][(\"label\",label[\"labelingName\"],label[\"name\"])]=0\n",
    "  for sensor in dataset[\"sensors\"]:\n",
    "    for dataPoint in sensor['data']:\n",
    "      timestamp=datetime.datetime.utcfromtimestamp(dataPoint[\"timestamp\"]/1000)\n",
    "      if timestamp not in data:\n",
    "        data[timestamp]={(\"meta\",None,k):v for k,v in dataset[\"metaData\"].items()}\n",
    "\n",
    "      data[timestamp][(\"data\",None,sensor[\"name\"])]=dataPoint[\"datapoint\"]\n",
    "\n",
    "# subject id und andere labels fehlen noch."
   ],
   "metadata": {
    "collapsed": false,
    "pycharm": {
     "name": "#%%\n"
    }
   }
  },
  {
   "cell_type": "code",
   "execution_count": 5,
   "outputs": [
    {
     "data": {
      "text/plain": "                          data                                              \\\n                           NaN                                               \n                         alpha   beta  gamma     x    x0     y    y0     z   \n2022-08-11 10:37:02.815  -3.19   0.38  -1.16 -0.23  0.00 -6.99  0.01 -6.89   \n2022-08-11 10:37:02.831  -4.89  -1.07  -0.50 -0.22  0.00 -6.92  0.07 -6.87   \n2022-08-11 10:37:02.847  -5.93  -1.34  -0.31 -0.23  0.00 -6.92  0.05 -7.01   \n2022-08-11 10:37:02.864  -5.51   0.06  -0.37 -0.24 -0.01 -6.96  0.01 -7.08   \n2022-08-11 10:37:02.881  -4.69   0.42  -0.97 -0.30 -0.07 -6.98 -0.02 -7.11   \n...                        ...    ...    ...   ...   ...   ...   ...   ...   \n2022-08-11 10:40:45.743 -10.91  30.91   3.49  1.44  0.24 -7.57  0.52 -5.10   \n2022-08-11 10:40:45.760   1.91   2.69  10.32  1.38  0.17 -8.07  0.01 -5.45   \n2022-08-11 10:40:45.841   5.05  -9.04   2.71  0.77 -0.14 -8.08  0.15 -5.14   \n2022-08-11 10:40:45.842   5.05  -9.04   2.71  0.77 -0.14 -8.08  0.15 -5.14   \n2022-08-11 10:40:45.860   9.20  -5.59  -1.93  0.63 -0.27 -7.93  0.31 -5.06   \n\n                                   label                     meta          \\\n                              activities                      NaN           \n                           z0    calling chatting reading browser  mobile   \n2022-08-11 10:37:02.815 -0.02        NaN      NaN     1.0  Safari  iPhone   \n2022-08-11 10:37:02.831  0.01        NaN      NaN     NaN  Safari  iPhone   \n2022-08-11 10:37:02.847 -0.12        NaN      NaN     NaN  Safari  iPhone   \n2022-08-11 10:37:02.864 -0.18        NaN      NaN     NaN  Safari  iPhone   \n2022-08-11 10:37:02.881 -0.20        NaN      NaN     NaN  Safari  iPhone   \n...                       ...        ...      ...     ...     ...     ...   \n2022-08-11 10:40:45.743  0.32        NaN      NaN     NaN  Safari  iPhone   \n2022-08-11 10:40:45.760 -0.03        NaN      NaN     NaN  Safari  iPhone   \n2022-08-11 10:40:45.841  0.11        NaN      NaN     NaN  Safari  iPhone   \n2022-08-11 10:40:45.842  0.11        NaN      NaN     NaN  Safari  iPhone   \n2022-08-11 10:40:45.860  0.17        NaN      NaN     NaN  Safari  iPhone   \n\n                                       \n                                       \n                        participantId  \n2022-08-11 10:37:02.815         1086e  \n2022-08-11 10:37:02.831         1086e  \n2022-08-11 10:37:02.847         1086e  \n2022-08-11 10:37:02.864         1086e  \n2022-08-11 10:37:02.881         1086e  \n...                               ...  \n2022-08-11 10:40:45.743         1086e  \n2022-08-11 10:40:45.760         1086e  \n2022-08-11 10:40:45.841         1086e  \n2022-08-11 10:40:45.842         1086e  \n2022-08-11 10:40:45.860         1086e  \n\n[10992 rows x 15 columns]",
      "text/html": "<div>\n<style scoped>\n    .dataframe tbody tr th:only-of-type {\n        vertical-align: middle;\n    }\n\n    .dataframe tbody tr th {\n        vertical-align: top;\n    }\n\n    .dataframe thead tr th {\n        text-align: left;\n    }\n</style>\n<table border=\"1\" class=\"dataframe\">\n  <thead>\n    <tr>\n      <th></th>\n      <th colspan=\"9\" halign=\"left\">data</th>\n      <th colspan=\"3\" halign=\"left\">label</th>\n      <th colspan=\"3\" halign=\"left\">meta</th>\n    </tr>\n    <tr>\n      <th></th>\n      <th colspan=\"9\" halign=\"left\">NaN</th>\n      <th colspan=\"3\" halign=\"left\">activities</th>\n      <th colspan=\"3\" halign=\"left\">NaN</th>\n    </tr>\n    <tr>\n      <th></th>\n      <th>alpha</th>\n      <th>beta</th>\n      <th>gamma</th>\n      <th>x</th>\n      <th>x0</th>\n      <th>y</th>\n      <th>y0</th>\n      <th>z</th>\n      <th>z0</th>\n      <th>calling</th>\n      <th>chatting</th>\n      <th>reading</th>\n      <th>browser</th>\n      <th>mobile</th>\n      <th>participantId</th>\n    </tr>\n  </thead>\n  <tbody>\n    <tr>\n      <th>2022-08-11 10:37:02.815</th>\n      <td>-3.19</td>\n      <td>0.38</td>\n      <td>-1.16</td>\n      <td>-0.23</td>\n      <td>0.00</td>\n      <td>-6.99</td>\n      <td>0.01</td>\n      <td>-6.89</td>\n      <td>-0.02</td>\n      <td>NaN</td>\n      <td>NaN</td>\n      <td>1.0</td>\n      <td>Safari</td>\n      <td>iPhone</td>\n      <td>1086e</td>\n    </tr>\n    <tr>\n      <th>2022-08-11 10:37:02.831</th>\n      <td>-4.89</td>\n      <td>-1.07</td>\n      <td>-0.50</td>\n      <td>-0.22</td>\n      <td>0.00</td>\n      <td>-6.92</td>\n      <td>0.07</td>\n      <td>-6.87</td>\n      <td>0.01</td>\n      <td>NaN</td>\n      <td>NaN</td>\n      <td>NaN</td>\n      <td>Safari</td>\n      <td>iPhone</td>\n      <td>1086e</td>\n    </tr>\n    <tr>\n      <th>2022-08-11 10:37:02.847</th>\n      <td>-5.93</td>\n      <td>-1.34</td>\n      <td>-0.31</td>\n      <td>-0.23</td>\n      <td>0.00</td>\n      <td>-6.92</td>\n      <td>0.05</td>\n      <td>-7.01</td>\n      <td>-0.12</td>\n      <td>NaN</td>\n      <td>NaN</td>\n      <td>NaN</td>\n      <td>Safari</td>\n      <td>iPhone</td>\n      <td>1086e</td>\n    </tr>\n    <tr>\n      <th>2022-08-11 10:37:02.864</th>\n      <td>-5.51</td>\n      <td>0.06</td>\n      <td>-0.37</td>\n      <td>-0.24</td>\n      <td>-0.01</td>\n      <td>-6.96</td>\n      <td>0.01</td>\n      <td>-7.08</td>\n      <td>-0.18</td>\n      <td>NaN</td>\n      <td>NaN</td>\n      <td>NaN</td>\n      <td>Safari</td>\n      <td>iPhone</td>\n      <td>1086e</td>\n    </tr>\n    <tr>\n      <th>2022-08-11 10:37:02.881</th>\n      <td>-4.69</td>\n      <td>0.42</td>\n      <td>-0.97</td>\n      <td>-0.30</td>\n      <td>-0.07</td>\n      <td>-6.98</td>\n      <td>-0.02</td>\n      <td>-7.11</td>\n      <td>-0.20</td>\n      <td>NaN</td>\n      <td>NaN</td>\n      <td>NaN</td>\n      <td>Safari</td>\n      <td>iPhone</td>\n      <td>1086e</td>\n    </tr>\n    <tr>\n      <th>...</th>\n      <td>...</td>\n      <td>...</td>\n      <td>...</td>\n      <td>...</td>\n      <td>...</td>\n      <td>...</td>\n      <td>...</td>\n      <td>...</td>\n      <td>...</td>\n      <td>...</td>\n      <td>...</td>\n      <td>...</td>\n      <td>...</td>\n      <td>...</td>\n      <td>...</td>\n    </tr>\n    <tr>\n      <th>2022-08-11 10:40:45.743</th>\n      <td>-10.91</td>\n      <td>30.91</td>\n      <td>3.49</td>\n      <td>1.44</td>\n      <td>0.24</td>\n      <td>-7.57</td>\n      <td>0.52</td>\n      <td>-5.10</td>\n      <td>0.32</td>\n      <td>NaN</td>\n      <td>NaN</td>\n      <td>NaN</td>\n      <td>Safari</td>\n      <td>iPhone</td>\n      <td>1086e</td>\n    </tr>\n    <tr>\n      <th>2022-08-11 10:40:45.760</th>\n      <td>1.91</td>\n      <td>2.69</td>\n      <td>10.32</td>\n      <td>1.38</td>\n      <td>0.17</td>\n      <td>-8.07</td>\n      <td>0.01</td>\n      <td>-5.45</td>\n      <td>-0.03</td>\n      <td>NaN</td>\n      <td>NaN</td>\n      <td>NaN</td>\n      <td>Safari</td>\n      <td>iPhone</td>\n      <td>1086e</td>\n    </tr>\n    <tr>\n      <th>2022-08-11 10:40:45.841</th>\n      <td>5.05</td>\n      <td>-9.04</td>\n      <td>2.71</td>\n      <td>0.77</td>\n      <td>-0.14</td>\n      <td>-8.08</td>\n      <td>0.15</td>\n      <td>-5.14</td>\n      <td>0.11</td>\n      <td>NaN</td>\n      <td>NaN</td>\n      <td>NaN</td>\n      <td>Safari</td>\n      <td>iPhone</td>\n      <td>1086e</td>\n    </tr>\n    <tr>\n      <th>2022-08-11 10:40:45.842</th>\n      <td>5.05</td>\n      <td>-9.04</td>\n      <td>2.71</td>\n      <td>0.77</td>\n      <td>-0.14</td>\n      <td>-8.08</td>\n      <td>0.15</td>\n      <td>-5.14</td>\n      <td>0.11</td>\n      <td>NaN</td>\n      <td>NaN</td>\n      <td>NaN</td>\n      <td>Safari</td>\n      <td>iPhone</td>\n      <td>1086e</td>\n    </tr>\n    <tr>\n      <th>2022-08-11 10:40:45.860</th>\n      <td>9.20</td>\n      <td>-5.59</td>\n      <td>-1.93</td>\n      <td>0.63</td>\n      <td>-0.27</td>\n      <td>-7.93</td>\n      <td>0.31</td>\n      <td>-5.06</td>\n      <td>0.17</td>\n      <td>NaN</td>\n      <td>NaN</td>\n      <td>NaN</td>\n      <td>Safari</td>\n      <td>iPhone</td>\n      <td>1086e</td>\n    </tr>\n  </tbody>\n</table>\n<p>10992 rows × 15 columns</p>\n</div>"
     },
     "execution_count": 5,
     "metadata": {},
     "output_type": "execute_result"
    }
   ],
   "source": [
    "df=pd.DataFrame.from_dict(data,\"index\").sort_index()\n",
    "df.columns = pd.MultiIndex.from_tuples(df.columns)\n",
    "cols=df.columns.values\n",
    "cols.sort()\n",
    "df=df[cols]\n",
    "df"
   ],
   "metadata": {
    "collapsed": false,
    "pycharm": {
     "name": "#%%\n"
    }
   }
  },
  {
   "cell_type": "code",
   "execution_count": null,
   "outputs": [],
   "source": [],
   "metadata": {
    "collapsed": false,
    "pycharm": {
     "name": "#%%\n"
    }
   }
  }
 ],
 "metadata": {
  "kernelspec": {
   "display_name": "Python 3",
   "language": "python",
   "name": "python3"
  },
  "language_info": {
   "codemirror_mode": {
    "name": "ipython",
    "version": 2
   },
   "file_extension": ".py",
   "mimetype": "text/x-python",
   "name": "python",
   "nbconvert_exporter": "python",
   "pygments_lexer": "ipython2",
   "version": "2.7.6"
  }
 },
 "nbformat": 4,
 "nbformat_minor": 0
}